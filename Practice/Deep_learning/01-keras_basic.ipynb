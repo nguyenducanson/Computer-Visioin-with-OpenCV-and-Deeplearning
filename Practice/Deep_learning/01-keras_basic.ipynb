{
 "cells": [
  {
   "cell_type": "code",
   "execution_count": 1,
   "metadata": {},
   "outputs": [],
   "source": [
    "import numpy as np\n",
    "from numpy import genfromtxt"
   ]
  },
  {
   "cell_type": "code",
   "execution_count": 2,
   "metadata": {},
   "outputs": [],
   "source": [
    "data = genfromtxt('D:\\ANSON\\OpenCV\\Computer-Vision-with-Python\\DATA\\\\bank_note_data.txt', delimiter=',')"
   ]
  },
  {
   "cell_type": "code",
   "execution_count": 3,
   "metadata": {},
   "outputs": [
    {
     "data": {
      "text/plain": [
       "array([[  3.6216 ,   8.6661 ,  -2.8073 ,  -0.44699,   0.     ],\n",
       "       [  4.5459 ,   8.1674 ,  -2.4586 ,  -1.4621 ,   0.     ],\n",
       "       [  3.866  ,  -2.6383 ,   1.9242 ,   0.10645,   0.     ],\n",
       "       ...,\n",
       "       [ -3.7503 , -13.4586 ,  17.5932 ,  -2.7771 ,   1.     ],\n",
       "       [ -3.5637 ,  -8.3827 ,  12.393  ,  -1.2823 ,   1.     ],\n",
       "       [ -2.5419 ,  -0.65804,   2.6842 ,   1.1952 ,   1.     ]])"
      ]
     },
     "execution_count": 3,
     "metadata": {},
     "output_type": "execute_result"
    }
   ],
   "source": [
    "data"
   ]
  },
  {
   "cell_type": "code",
   "execution_count": 4,
   "metadata": {},
   "outputs": [],
   "source": [
    "X = data[:,:-1]\n",
    "y = data[:,-1]"
   ]
  },
  {
   "cell_type": "code",
   "execution_count": 5,
   "metadata": {},
   "outputs": [
    {
     "data": {
      "text/plain": [
       "array([[  3.6216 ,   8.6661 ,  -2.8073 ,  -0.44699],\n",
       "       [  4.5459 ,   8.1674 ,  -2.4586 ,  -1.4621 ],\n",
       "       [  3.866  ,  -2.6383 ,   1.9242 ,   0.10645],\n",
       "       ...,\n",
       "       [ -3.7503 , -13.4586 ,  17.5932 ,  -2.7771 ],\n",
       "       [ -3.5637 ,  -8.3827 ,  12.393  ,  -1.2823 ],\n",
       "       [ -2.5419 ,  -0.65804,   2.6842 ,   1.1952 ]])"
      ]
     },
     "execution_count": 5,
     "metadata": {},
     "output_type": "execute_result"
    }
   ],
   "source": [
    "X"
   ]
  },
  {
   "cell_type": "code",
   "execution_count": 6,
   "metadata": {},
   "outputs": [
    {
     "data": {
      "text/plain": [
       "array([0., 0., 0., ..., 1., 1., 1.])"
      ]
     },
     "execution_count": 6,
     "metadata": {},
     "output_type": "execute_result"
    }
   ],
   "source": [
    "\n",
    "y"
   ]
  },
  {
   "cell_type": "code",
   "execution_count": 7,
   "metadata": {},
   "outputs": [],
   "source": [
    "from sklearn.model_selection import train_test_split\n",
    "\n",
    "X_train, X_test, y_train, y_test = train_test_split(X, y, test_size=0.33, random_state=42)"
   ]
  },
  {
   "cell_type": "code",
   "execution_count": 8,
   "metadata": {},
   "outputs": [],
   "source": [
    "from sklearn.preprocessing import MinMaxScaler\n",
    "\n",
    "scale_object = MinMaxScaler()"
   ]
  },
  {
   "cell_type": "code",
   "execution_count": 9,
   "metadata": {},
   "outputs": [
    {
     "data": {
      "text/plain": [
       "MinMaxScaler()"
      ]
     },
     "execution_count": 9,
     "metadata": {},
     "output_type": "execute_result"
    }
   ],
   "source": [
    "scale_object.fit(X_train)"
   ]
  },
  {
   "cell_type": "code",
   "execution_count": 10,
   "metadata": {},
   "outputs": [],
   "source": [
    "scale_X_train = scale_object.transform(X_train)\n",
    "scale_X_test = scale_object.transform(X_test)"
   ]
  },
  {
   "cell_type": "code",
   "execution_count": 16,
   "metadata": {},
   "outputs": [
    {
     "data": {
      "text/plain": [
       "array([[4.44850688e-01, 5.14130449e-01, 2.18194638e-01, 8.50172258e-01],\n",
       "       [6.53339968e-01, 5.82655745e-01, 9.93242398e-02, 8.17696322e-01],\n",
       "       [4.81846700e-01, 6.69377018e-01, 3.61193167e-01, 7.63368407e-01],\n",
       "       ...,\n",
       "       [4.11050776e-04, 8.63104170e-01, 2.34046756e-01, 3.74261253e-01],\n",
       "       [2.58284115e-01, 6.16029366e-01, 2.33861752e-01, 7.02643151e-01],\n",
       "       [2.65661395e-01, 2.44444278e-01, 7.20316361e-01, 7.44775785e-01]])"
      ]
     },
     "execution_count": 16,
     "metadata": {},
     "output_type": "execute_result"
    }
   ],
   "source": [
    "scale_X_train"
   ]
  },
  {
   "cell_type": "code",
   "execution_count": 11,
   "metadata": {},
   "outputs": [],
   "source": [
    "from keras.models import Sequential\n",
    "from keras.layers import Dense"
   ]
  },
  {
   "cell_type": "code",
   "execution_count": 17,
   "metadata": {},
   "outputs": [],
   "source": [
    "model = Sequential()\n",
    "model.add(Dense(4, input_dim = 4, activation='relu'))\n",
    "model.add(Dense(8, activation='relu'))\n",
    "model.add(Dense(1, activation='sigmoid'))"
   ]
  },
  {
   "cell_type": "code",
   "execution_count": 18,
   "metadata": {},
   "outputs": [],
   "source": [
    "model.compile(optimizer='adam', loss='binary_crossentropy', metrics=['accuracy'])"
   ]
  },
  {
   "cell_type": "code",
   "execution_count": 19,
   "metadata": {},
   "outputs": [
    {
     "name": "stdout",
     "output_type": "stream",
     "text": [
      "Epoch 1/50\n",
      "29/29 - 2s - loss: 0.6884 - accuracy: 0.5332\n",
      "Epoch 2/50\n",
      "29/29 - 0s - loss: 0.6812 - accuracy: 0.5495\n",
      "Epoch 3/50\n",
      "29/29 - 0s - loss: 0.6772 - accuracy: 0.5495\n",
      "Epoch 4/50\n",
      "29/29 - 0s - loss: 0.6733 - accuracy: 0.5495\n",
      "Epoch 5/50\n",
      "29/29 - 0s - loss: 0.6697 - accuracy: 0.5495\n",
      "Epoch 6/50\n",
      "29/29 - 0s - loss: 0.6656 - accuracy: 0.5495\n",
      "Epoch 7/50\n",
      "29/29 - 0s - loss: 0.6615 - accuracy: 0.5495\n",
      "Epoch 8/50\n",
      "29/29 - 0s - loss: 0.6569 - accuracy: 0.5550\n",
      "Epoch 9/50\n",
      "29/29 - 0s - loss: 0.6525 - accuracy: 0.5713\n",
      "Epoch 10/50\n",
      "29/29 - 0s - loss: 0.6472 - accuracy: 0.5778\n",
      "Epoch 11/50\n",
      "29/29 - 0s - loss: 0.6413 - accuracy: 0.6007\n",
      "Epoch 12/50\n",
      "29/29 - 0s - loss: 0.6353 - accuracy: 0.6572\n",
      "Epoch 13/50\n",
      "29/29 - 0s - loss: 0.6282 - accuracy: 0.6659\n",
      "Epoch 14/50\n",
      "29/29 - 0s - loss: 0.6205 - accuracy: 0.6953\n",
      "Epoch 15/50\n",
      "29/29 - 0s - loss: 0.6121 - accuracy: 0.6997\n",
      "Epoch 16/50\n",
      "29/29 - 0s - loss: 0.6028 - accuracy: 0.7073\n",
      "Epoch 17/50\n",
      "29/29 - 0s - loss: 0.5938 - accuracy: 0.7073\n",
      "Epoch 18/50\n",
      "29/29 - 0s - loss: 0.5842 - accuracy: 0.7084\n",
      "Epoch 19/50\n",
      "29/29 - 0s - loss: 0.5744 - accuracy: 0.7116\n",
      "Epoch 20/50\n",
      "29/29 - 0s - loss: 0.5639 - accuracy: 0.7269\n",
      "Epoch 21/50\n",
      "29/29 - 0s - loss: 0.5535 - accuracy: 0.7476\n",
      "Epoch 22/50\n",
      "29/29 - 0s - loss: 0.5425 - accuracy: 0.7563\n",
      "Epoch 23/50\n",
      "29/29 - 0s - loss: 0.5316 - accuracy: 0.7650\n",
      "Epoch 24/50\n",
      "29/29 - 0s - loss: 0.5202 - accuracy: 0.7693\n",
      "Epoch 25/50\n",
      "29/29 - 0s - loss: 0.5064 - accuracy: 0.7791\n",
      "Epoch 26/50\n",
      "29/29 - 0s - loss: 0.4897 - accuracy: 0.7922\n",
      "Epoch 27/50\n",
      "29/29 - 0s - loss: 0.4703 - accuracy: 0.8150\n",
      "Epoch 28/50\n",
      "29/29 - 0s - loss: 0.4474 - accuracy: 0.8400\n",
      "Epoch 29/50\n",
      "29/29 - 0s - loss: 0.4242 - accuracy: 0.8640\n",
      "Epoch 30/50\n",
      "29/29 - 0s - loss: 0.3953 - accuracy: 0.8912\n",
      "Epoch 31/50\n",
      "29/29 - 0s - loss: 0.3703 - accuracy: 0.9227\n",
      "Epoch 32/50\n",
      "29/29 - 0s - loss: 0.3478 - accuracy: 0.9293\n",
      "Epoch 33/50\n",
      "29/29 - 0s - loss: 0.3278 - accuracy: 0.9402\n",
      "Epoch 34/50\n",
      "29/29 - 0s - loss: 0.3066 - accuracy: 0.9423\n",
      "Epoch 35/50\n",
      "29/29 - 0s - loss: 0.2879 - accuracy: 0.9456\n",
      "Epoch 36/50\n",
      "29/29 - 0s - loss: 0.2710 - accuracy: 0.9434\n",
      "Epoch 37/50\n",
      "29/29 - 0s - loss: 0.2530 - accuracy: 0.9456\n",
      "Epoch 38/50\n",
      "29/29 - 0s - loss: 0.2374 - accuracy: 0.9554\n",
      "Epoch 39/50\n",
      "29/29 - 0s - loss: 0.2240 - accuracy: 0.9543\n",
      "Epoch 40/50\n",
      "29/29 - 0s - loss: 0.2103 - accuracy: 0.9543\n",
      "Epoch 41/50\n",
      "29/29 - 0s - loss: 0.1984 - accuracy: 0.9587\n",
      "Epoch 42/50\n",
      "29/29 - 0s - loss: 0.1881 - accuracy: 0.9543\n",
      "Epoch 43/50\n",
      "29/29 - 0s - loss: 0.1778 - accuracy: 0.9587\n",
      "Epoch 44/50\n",
      "29/29 - 0s - loss: 0.1696 - accuracy: 0.9597\n",
      "Epoch 45/50\n",
      "29/29 - 0s - loss: 0.1608 - accuracy: 0.9608\n",
      "Epoch 46/50\n",
      "29/29 - 0s - loss: 0.1556 - accuracy: 0.9597\n",
      "Epoch 47/50\n",
      "29/29 - 0s - loss: 0.1498 - accuracy: 0.9641\n",
      "Epoch 48/50\n",
      "29/29 - 0s - loss: 0.1404 - accuracy: 0.9663\n",
      "Epoch 49/50\n",
      "29/29 - 0s - loss: 0.1355 - accuracy: 0.9674\n",
      "Epoch 50/50\n",
      "29/29 - 0s - loss: 0.1297 - accuracy: 0.9684\n"
     ]
    },
    {
     "data": {
      "text/plain": [
       "<keras.callbacks.History at 0x25231b37cd0>"
      ]
     },
     "execution_count": 19,
     "metadata": {},
     "output_type": "execute_result"
    }
   ],
   "source": [
    "model.fit(scale_X_train, y_train, epochs=50, verbose=2)"
   ]
  },
  {
   "cell_type": "code",
   "execution_count": 20,
   "metadata": {},
   "outputs": [],
   "source": [
    "from sklearn.metrics import confusion_matrix, classification_report"
   ]
  },
  {
   "cell_type": "code",
   "execution_count": 26,
   "metadata": {},
   "outputs": [
    {
     "data": {
      "text/plain": [
       "array([[251,   6],\n",
       "       [  9, 187]], dtype=int64)"
      ]
     },
     "execution_count": 26,
     "metadata": {},
     "output_type": "execute_result"
    }
   ],
   "source": [
    "predict = model.predict(scale_X_test)\n",
    "predict[predict >= 0.5] = 1\n",
    "predict[predict < 0.5] = 0\n",
    "confusion_matrix(y_test, predict)"
   ]
  },
  {
   "cell_type": "code",
   "execution_count": 28,
   "metadata": {},
   "outputs": [
    {
     "name": "stdout",
     "output_type": "stream",
     "text": [
      "              precision    recall  f1-score   support\n",
      "\n",
      "         0.0       0.97      0.98      0.97       257\n",
      "         1.0       0.97      0.95      0.96       196\n",
      "\n",
      "    accuracy                           0.97       453\n",
      "   macro avg       0.97      0.97      0.97       453\n",
      "weighted avg       0.97      0.97      0.97       453\n",
      "\n"
     ]
    }
   ],
   "source": [
    "print(classification_report(y_test, predict))"
   ]
  },
  {
   "cell_type": "code",
   "execution_count": null,
   "metadata": {},
   "outputs": [],
   "source": [
    "model.save('supermodel.h5')"
   ]
  },
  {
   "cell_type": "code",
   "execution_count": null,
   "metadata": {},
   "outputs": [],
   "source": [
    "from keras.models import load_model\n",
    "model = load_model('supermodel.h5')"
   ]
  },
  {
   "cell_type": "code",
   "execution_count": null,
   "metadata": {},
   "outputs": [],
   "source": []
  }
 ],
 "metadata": {
  "interpreter": {
   "hash": "84fb2fe92b14b18c056bda70d602a3106b09df8b368d4f2bd86b226979d0ed77"
  },
  "kernelspec": {
   "display_name": "Python 3.8.5 32-bit",
   "language": "python",
   "name": "python3"
  },
  "language_info": {
   "codemirror_mode": {
    "name": "ipython",
    "version": 3
   },
   "file_extension": ".py",
   "mimetype": "text/x-python",
   "name": "python",
   "nbconvert_exporter": "python",
   "pygments_lexer": "ipython3",
   "version": "3.9.1"
  },
  "orig_nbformat": 4
 },
 "nbformat": 4,
 "nbformat_minor": 2
}
